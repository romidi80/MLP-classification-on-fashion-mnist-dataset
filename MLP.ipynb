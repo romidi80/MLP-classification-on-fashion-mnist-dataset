{
 "cells": [
  {
   "cell_type": "code",
   "execution_count": 3,
   "metadata": {},
   "outputs": [],
   "source": [
    "import pandas as pd\n",
    "from sklearn.model_selection import train_test_split\n",
    "from sklearn.neural_network import MLPClassifier\n",
    "from matplotlib import pylab as plt\n",
    "from sklearn.metrics import accuracy_score"
   ]
  },
  {
   "cell_type": "code",
   "execution_count": 4,
   "metadata": {},
   "outputs": [],
   "source": [
    "train = pd.read_csv(\"fashion-mnist_train.csv\")\n",
    "test = pd.read_csv(\"fashion-mnist_test.csv\")\n",
    "train_labels = train[\"label\"]\n",
    "train_data = train.drop(columns=[\"label\"])\n",
    "y_test = test[\"label\"]\n",
    "X_test = test.drop(columns=[\"label\"])\n",
    "X_train, X_validation, y_train, y_validation = train_test_split(train_data, train_labels, test_size=0.1)"
   ]
  },
  {
   "cell_type": "code",
   "execution_count": 10,
   "metadata": {},
   "outputs": [
    {
     "name": "stdout",
     "output_type": "stream",
     "text": [
      "train accuracy:  0.8961166666666667\n"
     ]
    }
   ],
   "source": [
    "clf = MLPClassifier(solver='adam', hidden_layer_sizes=(100,), learning_rate=\"constant\", learning_rate_init=0.001)\n",
    "clf.fit(train_data, train_labels)\n",
    "predictions_train = clf.predict(train_data)\n",
    "train_score = accuracy_score(predictions_train, train_labels)\n",
    "print(\"train accuracy: \", train_score)"
   ]
  },
  {
   "cell_type": "code",
   "execution_count": 11,
   "metadata": {},
   "outputs": [
    {
     "data": {
      "text/plain": [
       "Text(0, 0.5, 'error')"
      ]
     },
     "execution_count": 11,
     "metadata": {},
     "output_type": "execute_result"
    },
    {
     "data": {
      "image/png": "[encoded data removed]",
      "text/plain": [
       "<Figure size 432x288 with 1 Axes>"
      ]
     },
     "metadata": {
      "needs_background": "light"
     },
     "output_type": "display_data"
    }
   ],
   "source": [
    "plt.plot(clf.loss_curve_)\n",
    "plt.title(\"Loss function\")\n",
    "plt.xlabel(\"epoch\")\n",
    "plt.ylabel(\"error\")"
   ]
  },
  {
   "cell_type": "code",
   "execution_count": 12,
   "metadata": {},
   "outputs": [
    {
     "name": "stdout",
     "output_type": "stream",
     "text": [
      "validation accuracy:  0.9296666666666666\n"
     ]
    }
   ],
   "source": [
    "clf.fit(X_validation, y_validation)\n",
    "predictions_validation = clf.predict(X_validation)\n",
    "validation_score = accuracy_score(predictions_validation, y_validation)\n",
    "print(\"validation accuracy: \", validation_score)"
   ]
  },
  {
   "cell_type": "code",
   "execution_count": 13,
   "metadata": {},
   "outputs": [
    {
     "data": {
      "text/plain": [
       "Text(0, 0.5, 'error')"
      ]
     },
     "execution_count": 13,
     "metadata": {},
     "output_type": "execute_result"
    },
    {
     "data": {
      "image/png": "[encoded data removed]",
      "text/plain": [
       "<Figure size 432x288 with 1 Axes>"
      ]
     },
     "metadata": {
      "needs_background": "light"
     },
     "output_type": "display_data"
    }
   ],
   "source": [
    "plt.plot(clf.loss_curve_)\n",
    "plt.title(\"Loss function\")\n",
    "plt.xlabel(\"epoch\")\n",
    "plt.ylabel(\"error\")"
   ]
  },
  {
   "cell_type": "code",
   "execution_count": 15,
   "metadata": {},
   "outputs": [
    {
     "name": "stdout",
     "output_type": "stream",
     "text": [
      "test accuracy:  0.7989\n"
     ]
    }
   ],
   "source": [
    "predictions_test = clf.predict(X_test)\n",
    "test_score = accuracy_score(predictions_test, y_test)\n",
    "print(\"test accuracy: \", test_score)"
   ]
  },
  {
   "cell_type": "code",
   "execution_count": 7,
   "metadata": {},
   "outputs": [],
   "source": [
    "def mlp(l = 100,lw = 10,s='adam',lr=0.001):\n",
    "\n",
    "    clf = MLPClassifier(solver=s, hidden_layer_sizes=(l,lw), learning_rate=\"constant\", learning_rate_init=lr, max_iter=1000)\n",
    "    clf.fit(train_data, train_labels)\n",
    "    predictions_test = clf.predict(X_test)\n",
    "    test_score = accuracy_score(predictions_test, y_test)\n",
    "    return test_score"
   ]
  },
  {
   "cell_type": "code",
   "execution_count": 11,
   "metadata": {},
   "outputs": [
    {
     "name": "stdout",
     "output_type": "stream",
     "text": [
      "layers: 1 -> accuracy: 0.1\n",
      "layers: 4 -> accuracy: 0.361\n",
      "layer width: 50 -> accuracy: 0.875\n",
      "layer width: 150 -> accuracy: 0.8717\n",
      "solver: sgd -> accuracy: 0.1\n",
      "solver: lbfgs -> accuracy: 0.291\n",
      "solver: adam -> accuracy: 0.8723\n",
      "learning rate: 0.9 -> accuracy: 0.1\n",
      "learning rate: 0.01 -> accuracy: 0.1\n",
      "learning rate: 0.001 -> accuracy: 0.8766\n",
      "best layer: 4 best width: 150 best solver: adam best learning rate: 0.001\n",
      "accuracy: 0.8128\n"
     ]
    }
   ],
   "source": [
    "layers = [1, 4]\n",
    "layers_width = [50,150]\n",
    "solvers = ['sgd', 'lbfgs', 'adam']\n",
    "learning_rate = [0.9,0.01,0.001]\n",
    "\n",
    "best_layer = 1\n",
    "best_layer_width = 50\n",
    "best_solver = 'sgd'\n",
    "best_learning_rate = 0.9\n",
    "best_accuracy = 0\n",
    "\n",
    "for l in layers:\n",
    "    accuracy = mlp(l= l)\n",
    "    print(\"layers:\",l,\"-> accuracy:\",accuracy)\n",
    "    if best_accuracy < accuracy:\n",
    "        best_layer = l\n",
    "        best_accuracy = accuracy\n",
    "\n",
    "best_accuracy = 0\n",
    "for lw in layers_width:\n",
    "    accuracy = mlp(lw=lw)\n",
    "    print(\"layer width:\",lw,\"-> accuracy:\",accuracy)\n",
    "    if best_accuracy < accuracy:\n",
    "        best_layer_width = lw\n",
    "        best_accuracy = accuracy\n",
    "\n",
    "best_accuracy = 0\n",
    "for s in solvers:\n",
    "    accuracy = mlp(s=s)\n",
    "    print(\"solver:\",s,\"-> accuracy:\",accuracy)\n",
    "    if best_accuracy < accuracy:\n",
    "        best_solver = s\n",
    "        best_accuracy = accuracy\n",
    "\n",
    "best_accuracy = 0            \n",
    "for lr in learning_rate:\n",
    "    accuracy = mlp(lr=lr)\n",
    "    print(\"learning rate:\",lr,\"-> accuracy:\",accuracy)\n",
    "    if best_accuracy < accuracy:\n",
    "        best_learning_rate = lr\n",
    "        best_accuracy = accuracy\n",
    "                \n",
    "print(\"best layer:\", best_layer, \"best width:\", best_layer_width, \n",
    "      \"best solver:\", best_solver,\"best learning rate:\", best_learning_rate)   \n",
    "print(\"accuracy:\",mlp(best_layer,best_layer_width,best_solver,best_learning_rate))             "
   ]
  }
 ],
 "metadata": {
  "interpreter": {
   "hash": "a2f21ddba29c44fe69ec1e1b73305eee48f12316d4fbbc27a7ff370552f5cb8e"
  },
  "kernelspec": {
   "display_name": "Python 3.10.2 64-bit",
   "language": "python",
   "name": "python3"
  },
  "language_info": {
   "codemirror_mode": {
    "name": "ipython",
    "version": 3
   },
   "file_extension": ".py",
   "mimetype": "text/x-python",
   "name": "python",
   "nbconvert_exporter": "python",
   "pygments_lexer": "ipython3",
   "version": "3.10.2"
  },
  "orig_nbformat": 4
 },
 "nbformat": 4,
 "nbformat_minor": 2
}
